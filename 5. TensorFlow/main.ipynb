{
  "nbformat": 4,
  "nbformat_minor": 0,
  "metadata": {
    "colab": {
      "provenance": [],
      "toc_visible": true,
      "authorship_tag": "ABX9TyNgmPCWunpnGwSN1uWBauk6",
      "include_colab_link": true
    },
    "kernelspec": {
      "name": "python3",
      "display_name": "Python 3"
    },
    "language_info": {
      "name": "python"
    }
  },
  "cells": [
    {
      "cell_type": "markdown",
      "metadata": {
        "id": "view-in-github",
        "colab_type": "text"
      },
      "source": [
        "<a href=\"https://colab.research.google.com/github/IrfanArsyananda/Basic-Machine-Learning/blob/main/TensorFlow/main.ipynb\" target=\"_parent\"><img src=\"https://colab.research.google.com/assets/colab-badge.svg\" alt=\"Open In Colab\"/></a>"
      ]
    },
    {
      "cell_type": "markdown",
      "source": [
        "# Data Diri\n",
        "- Nama : Irfan Arsyananda\n",
        "- Email : irfan.ars18@gmail.com\n",
        "- Dicoding : https://www.dicoding.com/users/irfanarsyananda"
      ],
      "metadata": {
        "id": "4BC_tld3xoNj"
      }
    },
    {
      "cell_type": "markdown",
      "source": [],
      "metadata": {
        "id": "JsBxrVa_x23P"
      }
    },
    {
      "cell_type": "code",
      "execution_count": null,
      "metadata": {
        "id": "R244c4aCxgjO"
      },
      "outputs": [],
      "source": []
    }
  ]
}